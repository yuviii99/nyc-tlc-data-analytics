{
 "cells": [
  {
   "cell_type": "markdown",
   "id": "a0470b3e-5cf2-4ae5-8e79-3e482caab2b4",
   "metadata": {},
   "source": [
    "# NYC TLC Data Analytics"
   ]
  },
  {
   "cell_type": "markdown",
   "id": "ce6e7f40-ecbe-4923-81d3-19b5b799ff2d",
   "metadata": {},
   "source": [
    "This goal of the project is to perform data analysis on New York City Taxi and Limousine Commission dataset which is similar to dataset of ridesharing companies such as Uber, OLA, DiDi, etc.\n",
    "The dataset used can be found here: https://www.nyc.gov/site/tlc/about/tlc-trip-record-data.page, for this project we're using Janurary 2023 Yellow Taxi Trip Records."
   ]
  },
  {
   "cell_type": "code",
   "execution_count": null,
   "id": "e3e4b4cd-d9f7-4717-ae44-054c19dd933e",
   "metadata": {},
   "outputs": [],
   "source": [
    "import pyarrow.parquet as pq\n",
    "import pandas as pd"
   ]
  },
  {
   "cell_type": "code",
   "execution_count": null,
   "id": "c744974d-c43b-4f67-b521-1bd6a8eb2db3",
   "metadata": {},
   "outputs": [],
   "source": [
    "trips = pq.read_table('data/yellow_tripdata_2023-01.parquet')"
   ]
  },
  {
   "cell_type": "code",
   "execution_count": null,
   "id": "df5d4240-c45a-47b7-9f7e-e496083894c4",
   "metadata": {},
   "outputs": [],
   "source": [
    "df = trips.to_pandas()"
   ]
  },
  {
   "cell_type": "code",
   "execution_count": null,
   "id": "2706ad0c-7d6a-412c-a300-576b26b4a834",
   "metadata": {},
   "outputs": [],
   "source": [
    "df.head()"
   ]
  },
  {
   "cell_type": "code",
   "execution_count": null,
   "id": "033b2332-0823-4824-88b5-b5d538814f34",
   "metadata": {},
   "outputs": [],
   "source": [
    "df.info()"
   ]
  },
  {
   "cell_type": "code",
   "execution_count": null,
   "id": "fd211f35-12e6-427e-8851-21fe472ab248",
   "metadata": {},
   "outputs": [],
   "source": [
    "df = df.drop_duplicates().dropna().reset_index(drop=True)"
   ]
  },
  {
   "cell_type": "code",
   "execution_count": null,
   "id": "194c5afc-1a90-4641-b6f0-5739efddc2e2",
   "metadata": {},
   "outputs": [],
   "source": [
    "df['trip_id'] = df.index"
   ]
  },
  {
   "cell_type": "markdown",
   "id": "c68758fc-8bcc-4716-99dd-22a706ce5815",
   "metadata": {},
   "source": [
    "### Datetime Dimension Table"
   ]
  },
  {
   "cell_type": "code",
   "execution_count": null,
   "id": "be9225fc-9e65-43f7-ba92-76a915892b8b",
   "metadata": {},
   "outputs": [],
   "source": [
    "datetime_dim = df[['tpep_pickup_datetime','tpep_dropoff_datetime']].reset_index(drop=True)\n",
    "datetime_dim['pickup_hour'] = datetime_dim['tpep_pickup_datetime'].dt.hour\n",
    "datetime_dim['pickup_date'] = datetime_dim['tpep_pickup_datetime'].dt.date\n",
    "datetime_dim['pickup_weekday'] = datetime_dim['tpep_pickup_datetime'].dt.weekday\n",
    "\n",
    "datetime_dim['tpep_dropoff_datetime'] = datetime_dim['tpep_dropoff_datetime']\n",
    "datetime_dim['drop_hour'] = datetime_dim['tpep_dropoff_datetime'].dt.hour\n",
    "datetime_dim['drop_date'] = datetime_dim['tpep_dropoff_datetime'].dt.date\n",
    "datetime_dim['drop_weekday'] = datetime_dim['tpep_dropoff_datetime'].dt.weekday\n",
    "\n",
    "datetime_dim['datetime_id'] = datetime_dim.index"
   ]
  },
  {
   "cell_type": "code",
   "execution_count": null,
   "id": "68d5d99b-543c-458b-921b-87c56f9f8c3c",
   "metadata": {},
   "outputs": [],
   "source": [
    "# Order the columns\n",
    "datetime_dim = datetime_dim[['datetime_id','tpep_pickup_datetime', 'pickup_hour', 'pickup_date', 'pickup_weekday',\n",
    "                             'tpep_dropoff_datetime', 'drop_hour', 'drop_date', 'drop_weekday']]"
   ]
  },
  {
   "cell_type": "code",
   "execution_count": null,
   "id": "41867fb5-bb2e-4da5-87ae-f8983ab79343",
   "metadata": {},
   "outputs": [],
   "source": [
    "datetime_dim.to_dict()"
   ]
  },
  {
   "cell_type": "markdown",
   "id": "5e047258-e8ab-438b-9ca8-dbb6156fb357",
   "metadata": {},
   "source": [
    "### Passenger Count & Trip Distance Dimension Table"
   ]
  },
  {
   "cell_type": "code",
   "execution_count": null,
   "id": "4f40876b-50bd-4388-a0f0-5ec64eb7e5f2",
   "metadata": {},
   "outputs": [],
   "source": [
    "passenger_count_dim = df[['passenger_count']].reset_index(drop=True)\n",
    "passenger_count_dim['passenger_count_id'] = passenger_count_dim.index\n",
    "passenger_count_dim = passenger_count_dim[['passenger_count_id','passenger_count']]\n",
    "\n",
    "trip_distance_dim = df[['trip_distance']].reset_index(drop=True)\n",
    "trip_distance_dim['trip_distance_id'] = trip_distance_dim.index\n",
    "trip_distance_dim = trip_distance_dim[['trip_distance_id','trip_distance']]"
   ]
  },
  {
   "cell_type": "markdown",
   "id": "40acf337-eb06-47cd-9e88-13c6073b006f",
   "metadata": {},
   "source": [
    "### Ratecode Dimension Table"
   ]
  },
  {
   "cell_type": "code",
   "execution_count": null,
   "id": "ca7d583c-2f7b-4c48-b047-43ce1eea1e81",
   "metadata": {},
   "outputs": [],
   "source": [
    "rate_code_type = {\n",
    "    1: \"Standard Rate\",\n",
    "    2: \"JFK\",\n",
    "    3: \"Newark\",\n",
    "    4: \"Nassau or Westchester\",\n",
    "    5: \"Negotiated Fare\",\n",
    "    6: \"Group Ride\"\n",
    "}\n",
    "\n",
    "rate_code_dim = df[['RatecodeID']].reset_index(drop=True)\n",
    "rate_code_dim['rate_code_id'] = rate_code_dim.index\n",
    "rate_code_dim['rate_code_name'] = rate_code_dim['RatecodeID'].map(rate_code_type)\n",
    "rate_code_dim = rate_code_dim[['rate_code_id', 'RatecodeID', 'rate_code_name']]"
   ]
  },
  {
   "cell_type": "markdown",
   "id": "1d0c4492-7389-4188-a20a-6f382e2e13ad",
   "metadata": {},
   "source": [
    "### Pickup & Dropoff Location Dimension Tables"
   ]
  },
  {
   "cell_type": "code",
   "execution_count": null,
   "id": "29519ce2-dbbc-42bb-b5a6-89d9d6eae304",
   "metadata": {},
   "outputs": [],
   "source": [
    "pickup_location_dim = df[['PULocationID']].reset_index(drop=True)\n",
    "pickup_location_dim['pickup_location_id'] = pickup_location_dim.index\n",
    "pickup_location_dim = pickup_location_dim[['pickup_location_id','PULocationID']] \n",
    "\n",
    "\n",
    "dropoff_location_dim = df[['DOLocationID']].reset_index(drop=True)\n",
    "dropoff_location_dim['dropoff_location_id'] = dropoff_location_dim.index\n",
    "dropoff_location_dim = dropoff_location_dim[['dropoff_location_id','DOLocationID']]"
   ]
  },
  {
   "cell_type": "markdown",
   "id": "4b22095b-7869-4338-8e1e-08d555b19891",
   "metadata": {},
   "source": [
    "### Payment Type Dimension Table"
   ]
  },
  {
   "cell_type": "code",
   "execution_count": null,
   "id": "59c7c0ea-19be-4e0a-b786-b27d0ceb7e83",
   "metadata": {},
   "outputs": [],
   "source": [
    "payment_type_name = {\n",
    "    1:\"Credit card\",\n",
    "    2:\"Cash\",\n",
    "    3:\"No charge\",\n",
    "    4:\"Dispute\",\n",
    "    5:\"Unknown\",\n",
    "    6:\"Voided trip\"\n",
    "}\n",
    "\n",
    "payment_type_dim = df[['payment_type']].reset_index(drop=True)\n",
    "payment_type_dim['payment_name'] = payment_type_dim['payment_type'].map(payment_type_name)\n",
    "payment_type_dim['payment_type_id'] = payment_type_dim.index\n",
    "\n",
    "payment_type_dim = payment_type_dim[['payment_type_id', 'payment_type', 'payment_name']]"
   ]
  },
  {
   "cell_type": "markdown",
   "id": "df7bb7aa-3dd1-4926-91fa-b64e73e782e8",
   "metadata": {},
   "source": [
    "### Fact Table"
   ]
  },
  {
   "cell_type": "code",
   "execution_count": null,
   "id": "100b86ed-4b9d-4482-81a7-93db68faaf4c",
   "metadata": {},
   "outputs": [],
   "source": [
    "fact_table = df.merge(passenger_count_dim, left_on='trip_id', right_on='passenger_count_id') \\\n",
    "             .merge(trip_distance_dim, left_on='trip_id', right_on='trip_distance_id') \\\n",
    "             .merge(rate_code_dim, left_on='trip_id', right_on='rate_code_id') \\\n",
    "             .merge(pickup_location_dim, left_on='trip_id', right_on='pickup_location_id') \\\n",
    "             .merge(dropoff_location_dim, left_on='trip_id', right_on='dropoff_location_id')\\\n",
    "             .merge(datetime_dim, left_on='trip_id', right_on='datetime_id') \\\n",
    "             .merge(payment_type_dim, left_on='trip_id', right_on='payment_type_id') \\\n",
    "             [['trip_id','VendorID', 'datetime_id', 'passenger_count_id',\n",
    "               'trip_distance_id', 'rate_code_id', 'store_and_fwd_flag', 'pickup_location_id', 'dropoff_location_id',\n",
    "               'payment_type_id', 'fare_amount', 'extra', 'mta_tax', 'tip_amount', 'tolls_amount',\n",
    "               'improvement_surcharge', 'total_amount']]"
   ]
  },
  {
   "cell_type": "code",
   "execution_count": null,
   "id": "5a746a6e-bf45-4635-8447-0fc226d16e9d",
   "metadata": {},
   "outputs": [],
   "source": [
    "fact_table"
   ]
  }
 ],
 "metadata": {
  "kernelspec": {
   "display_name": "Python 3 (ipykernel)",
   "language": "python",
   "name": "python3"
  },
  "language_info": {
   "codemirror_mode": {
    "name": "ipython",
    "version": 3
   },
   "file_extension": ".py",
   "mimetype": "text/x-python",
   "name": "python",
   "nbconvert_exporter": "python",
   "pygments_lexer": "ipython3",
   "version": "3.11.7"
  }
 },
 "nbformat": 4,
 "nbformat_minor": 5
}
